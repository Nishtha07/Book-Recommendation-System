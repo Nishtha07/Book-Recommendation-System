{
 "cells": [
  {
   "cell_type": "markdown",
   "metadata": {},
   "source": [
    "# Introduction to Recommendation System"
   ]
  },
  {
   "cell_type": "markdown",
   "metadata": {},
   "source": [
    "<img src=\"https://raw.githubusercontent.com/Nishtha07/Book-Recommendation-System/master/Images/images1.jpg\" \n",
    "align=\"middle\" alt=\"Figure 2.1\" data-canonical-src=\"\" style=\"width:55%;height:35%\">"
   ]
  },
  {
   "cell_type": "markdown",
   "metadata": {},
   "source": [
    "* What is recommedation system?\n",
    "* Why recommendation system is useful for orgnization?\n",
    "* How do we build recommendation engine?\n",
    "   * Content-based approach\n",
    "   * Collobrative filtering based approach\n",
    "   * Hybrid approach\n",
    "* Let's build the Book Recommendation System\n"
   ]
  },
  {
   "cell_type": "markdown",
   "metadata": {},
   "source": [
    "# What is recommedation system? "
   ]
  },
  {
   "cell_type": "markdown",
   "metadata": {},
   "source": [
    "* A recommendation system is any system that automatically suggests content, products or serivces which should interest customers based on their preferences.\n"
   ]
  },
  {
   "attachments": {},
   "cell_type": "markdown",
   "metadata": {},
   "source": [
    "<img src=\"https://raw.githubusercontent.com/Nishtha07/Book-Recommendation-System/master/Images/images10.png\" \n",
    "align=\"middle\" alt=\"Figure 2.1\" data-canonical-src=\"\" style=\"width:105%;height:75%\">"
   ]
  },
  {
   "attachments": {},
   "cell_type": "markdown",
   "metadata": {},
   "source": [
    "<img src=\"https://raw.githubusercontent.com/Nishtha07/Book-Recommendation-System/master/Images/images2.jpg\" \n",
    "align=\"middle\" alt=\"Figure 2.1\" data-canonical-src=\"\" style=\"width:105%;height:65%\">"
   ]
  },
  {
   "cell_type": "markdown",
   "metadata": {},
   "source": [
    "# Why recommendation system is useful for orgnization? "
   ]
  },
  {
   "cell_type": "markdown",
   "metadata": {},
   "source": [
    "* Help to increase the site’s page views, dwell time, click-through rate, and retention\n",
    "* Help generate more advertising revenue\n",
    "* Increase upselling and crossselling\n"
   ]
  },
  {
   "attachments": {},
   "cell_type": "markdown",
   "metadata": {},
   "source": [
    "<img src=\"https://raw.githubusercontent.com/Nishtha07/Book-Recommendation-System/master/Images/images3.png\" \n",
    "align=\"middle\" alt=\"Figure 2.1\" data-canonical-src=\"\" style=\"width:105%;height:55%\">"
   ]
  },
  {
   "cell_type": "markdown",
   "metadata": {},
   "source": [
    "* Way back in 2006, Amazon reported that 35% of it’s revenues were as a direct result of it’s cross sales and upselling efforts. \n"
   ]
  },
  {
   "cell_type": "markdown",
   "metadata": {},
   "source": [
    "# How do we build recommendation engine?"
   ]
  },
  {
   "attachments": {},
   "cell_type": "markdown",
   "metadata": {},
   "source": [
    "<img src=\"https://raw.githubusercontent.com/Nishtha07/Book-Recommendation-System/master/Images/images4.png\" \n",
    "align=\"middle\" alt=\"Figure 2.1\" data-canonical-src=\"\" style=\"width:85%;height:45%\">"
   ]
  },
  {
   "cell_type": "markdown",
   "metadata": {},
   "source": [
    "### Approach - 1 : Content-based recommendation system"
   ]
  },
  {
   "cell_type": "markdown",
   "metadata": {},
   "source": [
    "* Content based system suggests you what you like based on what you liked in past.\n",
    "* Recommendation of items are based on : user's previous purcheses, reviews and likes\n",
    "* Combine: Item description and User profile description\n",
    "* Generate similarity score\n",
    "* Recommend the items based on similarity score\n"
   ]
  },
  {
   "attachments": {},
   "cell_type": "markdown",
   "metadata": {},
   "source": [
    "<img src=\"https://raw.githubusercontent.com/Nishtha07/Book-Recommendation-System/master/Images/images5.png\" \n",
    "align=\"middle\" alt=\"Figure 2.1\" data-canonical-src=\"\" style=\"width:85%;height:65%\">"
   ]
  },
  {
   "attachments": {},
   "cell_type": "markdown",
   "metadata": {},
   "source": [
    "<img src=\"https://raw.githubusercontent.com/Nishtha07/Book-Recommendation-System/master/Images/images6.jpg\" \n",
    "align=\"middle\" alt=\"Figure 2.1\" data-canonical-src=\"\" style=\"width:85%;height:55%\">"
   ]
  },
  {
   "cell_type": "markdown",
   "metadata": {},
   "source": [
    "### Approach - 2: Collobrative-filtering (CF) based recommendation system"
   ]
  },
  {
   "cell_type": "markdown",
   "metadata": {},
   "source": [
    "### Types of CF"
   ]
  },
  {
   "cell_type": "markdown",
   "metadata": {},
   "source": [
    "1. User-Item Collaborative Filtering: “Users who are similar to you also liked …”\n",
    "2. Item-Item Collaborative Filtering: “Users who liked this item also liked …”\n"
   ]
  },
  {
   "cell_type": "markdown",
   "metadata": {},
   "source": [
    "#### User-User CF"
   ]
  },
  {
   "attachments": {},
   "cell_type": "markdown",
   "metadata": {},
   "source": [
    "<img src=\"https://raw.githubusercontent.com/Nishtha07/Book-Recommendation-System/master/Images/cf_user-user.png\" \n",
    "align=\"middle\" alt=\"Figure 2.1\" data-canonical-src=\"\" style=\"width:105%;height:65%\">"
   ]
  },
  {
   "cell_type": "markdown",
   "metadata": {},
   "source": [
    "#### Item-item CF"
   ]
  },
  {
   "attachments": {},
   "cell_type": "markdown",
   "metadata": {},
   "source": [
    "<img src=\"https://raw.githubusercontent.com/Nishtha07/Book-Recommendation-System/master/Images/cf_item-item.png\" \n",
    "align=\"middle\" alt=\"Figure 2.1\" data-canonical-src=\"\" style=\"width:95%;height:55%\">"
   ]
  },
  {
   "cell_type": "markdown",
   "metadata": {},
   "source": [
    "# Evalute recommendation system \n",
    "\n",
    "#### RMSE : Root-mean-square-error\n",
    "\n"
   ]
  },
  {
   "cell_type": "markdown",
   "metadata": {},
   "source": [
    "* RMSE is a quadratic scoring rule that also measures the average magnitude of the error.\n",
    "* It’s the square root of the average of squared differences between prediction and actual observation.\n",
    "\n",
    "$$\\large\n",
    "   RMSE = \\sqrt{\\frac{1}{n}\\sum_{j=1}^n(y_{j}-\\hat{y}_{j})^{2}}\n",
    "$$\n"
   ]
  },
  {
   "cell_type": "markdown",
   "metadata": {},
   "source": [
    "#### MAE : Mean Absolute Error"
   ]
  },
  {
   "cell_type": "markdown",
   "metadata": {},
   "source": [
    "* MAE measures the average magnitude of the errors in a set of predictions, without considering their direction.\n",
    "* It is the average over the test sample of the absolute differences between prediction and actual observation where all individual differences have equal weight.\n",
    "\n",
    "$$\\large\n",
    "   MAE = \\frac{1}{n}\\sum_{j=1}^{n}\\mid y_{j} - \\hat{y}_{j}\\mid\n",
    "$$\n"
   ]
  },
  {
   "cell_type": "markdown",
   "metadata": {},
   "source": [
    "### Techniques used: "
   ]
  },
  {
   "cell_type": "markdown",
   "metadata": {},
   "source": [
    "#### 1.Weighted Rating (WR)"
   ]
  },
  {
   "cell_type": "markdown",
   "metadata": {},
   "source": [
    "* Specifically in context of movie recommendation engine\n",
    "$$\\large\n",
    "   Weighted\\;Rating =(\\frac{v}{v+m}.R )+(\\frac{m}{v+m}.C)\n",
    "$$\n",
    "where,\n",
    "<br>v is the number of votes for the movie\n",
    "<br>m is the minimum votes required to be listed in the chart\n",
    "<br>R is the average rating of the movie\n",
    "<br>C is the mean vote across the whole report\n",
    "\n"
   ]
  },
  {
   "cell_type": "markdown",
   "metadata": {},
   "source": [
    "#### 2. Cosine Similarity\n",
    "\n"
   ]
  },
  {
   "cell_type": "markdown",
   "metadata": {},
   "source": [
    "* Intution behind the cosine similarity"
   ]
  },
  {
   "attachments": {},
   "cell_type": "markdown",
   "metadata": {},
   "source": [
    "<img src=\"https://raw.githubusercontent.com/Nishtha07/Book-Recommendation-System/master/Images/images7.png\" \n",
    "align=\"middle\" alt=\"Figure 2.1\" data-canonical-src=\"\" style=\"width:85%;height:65%\">"
   ]
  },
  {
   "cell_type": "markdown",
   "metadata": {},
   "source": [
    "#### Equation for consine similarity"
   ]
  },
  {
   "cell_type": "markdown",
   "metadata": {},
   "source": [
    "\n",
    "$$\n",
    "   \\vec{a} \\cdot \\vec{b} = \\sum_{i=1}^n a_ib_i = a_1b_1 + a_2b_2 + \\cdots + a_nb_n  \n",
    "$$\n",
    "$$\n",
    "   \\cos\\theta = \\frac{\\overrightarrow{a}.\\overrightarrow{b}}{\\lVert{\\overrightarrow{a}}\\rVert {\\lVert{\\overrightarrow{b}}\\rVert}}\n",
    "$$\n",
    "$$\n",
    "\\lVert{\\overrightarrow{a}}\\rVert = \\sqrt{a_{1}^2 + a_{2}^2 +a_{3}^2 + ... + a_{n}^2}\\lVert{\\overrightarrow{b}}\\rVert = \\sqrt{b_{1}^2 + b_{2}^2 +b_{3}^2 + ... + b_{n}^2}\n",
    "$$\n"
   ]
  },
  {
   "attachments": {},
   "cell_type": "markdown",
   "metadata": {},
   "source": [
    "\n",
    "<img src=\"https://raw.githubusercontent.com/Nishtha07/Book-Recommendation-System/master/Images/Cosine_vector%20space%20model.png\" \n",
    "align=\"middle\" alt=\"Figure 2.1\" data-canonical-src=\"\" style=\"width:65%;height:35%\">"
   ]
  },
  {
   "cell_type": "markdown",
   "metadata": {},
   "source": [
    "* cosine similarity value [-1,1]\n",
    "* particularly used in positive space, where the outcome is neatly bounded in [0,1]\n",
    "* very efficient to evaluate, especially for sparse vectors.\n"
   ]
  },
  {
   "attachments": {},
   "cell_type": "markdown",
   "metadata": {},
   "source": [
    "<img src=\"https://raw.githubusercontent.com/Nishtha07/Book-Recommendation-System/master/Images/images8.JPG\" \n",
    "align=\"middle\" alt=\"Figure 2.1\" data-canonical-src=\"\" style=\"width:85%;height:45%\">"
   ]
  },
  {
   "cell_type": "code",
   "execution_count": 7,
   "metadata": {},
   "outputs": [],
   "source": [
    "import math\n",
    "\n",
    "\n",
    "def cosine_similarity(v1, v2):\n",
    "    \"compute cosine similarity of v1 to v2: (v1 dot v2)/{||v1||*||v2||)\"\n",
    "    sumxx, sumxy, sumyy = 0, 0, 0\n",
    "    for i in range(len(v1)):\n",
    "        x = v1[i]\n",
    "        y = v2[i]\n",
    "        sumxx += x * x\n",
    "        sumyy += y * y\n",
    "        sumxy += x * y\n",
    "    return sumxy / math.sqrt(sumxx * sumyy)"
   ]
  },
  {
   "cell_type": "code",
   "execution_count": 13,
   "metadata": {},
   "outputs": [
    {
     "name": "stdout",
     "output_type": "stream",
     "text": [
      "Vector a: [3, 45, 7, 2]\n",
      "Vector b: [2, 54, 13, 15]\n",
      "Cosine Similarity:  0.97228425171235\n"
     ]
    }
   ],
   "source": [
    "a, b = [3, 45, 7, 2], [2, 54, 13, 15]\n",
    "print('Vector a: ' + str(a))\n",
    "print('Vector b: ' + str(b))\n",
    "ans = cosine_similarity(a, b)\n",
    "print('Cosine Similarity:  ' + str(ans))\n"
   ]
  },
  {
   "cell_type": "code",
   "execution_count": 16,
   "metadata": {},
   "outputs": [
    {
     "data": {
      "text/plain": [
       "array([[-0.5]])"
      ]
     },
     "execution_count": 16,
     "metadata": {},
     "output_type": "execute_result"
    }
   ],
   "source": [
    "from sklearn.metrics.pairwise import cosine_similarity\n",
    "cosine_similarity([[1, 0, -1]], [[-1, -1, 0]])"
   ]
  },
  {
   "cell_type": "code",
   "execution_count": null,
   "metadata": {},
   "outputs": [],
   "source": []
  }
 ],
 "metadata": {
  "kernelspec": {
   "display_name": "Python 3",
   "language": "python",
   "name": "python3"
  },
  "language_info": {
   "codemirror_mode": {
    "name": "ipython",
    "version": 3
   },
   "file_extension": ".py",
   "mimetype": "text/x-python",
   "name": "python",
   "nbconvert_exporter": "python",
   "pygments_lexer": "ipython3",
   "version": "3.7.1"
  }
 },
 "nbformat": 4,
 "nbformat_minor": 4
}
